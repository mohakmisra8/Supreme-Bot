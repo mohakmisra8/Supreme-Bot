{
 "cells": [
  {
   "cell_type": "code",
   "execution_count": 1,
   "metadata": {},
   "outputs": [],
   "source": [
    "import json\n",
    "import webbrowser\n",
    "import requests\n",
    "import time\n",
    "import logging"
   ]
  },
  {
   "cell_type": "code",
   "execution_count": 2,
   "metadata": {},
   "outputs": [],
   "source": [
    "def keysearch(key):\n",
    "    logging.basicConfig(level=logging.INFO, filename='Supreme_Log.log', filemode='a',\n",
    "                        format = \" %(asctime)s %(message)s\",\n",
    "                        datefmt=\"%m/%d/%Y %I:%M:%S %p \")\n",
    "    starttime = time.time()\n",
    "    url = 'https://www.supremenewyork.com/mobile_stock.json'\n",
    "    response = requests.get(url=url)\n",
    "    data = json.loads(response.content.decode('utf-8'))\n",
    "    mylist = []\n",
    "    global mylists\n",
    "    mylists = mylist\n",
    "    for items in data['products_and_categories']:\n",
    "        if items != 'new':\n",
    "            categories = items\n",
    "        for x in categories.split():\n",
    "            for result in data['products_and_categories']['{}'.format(x)]:\n",
    "                if keyword in result['name'].lower():\n",
    "                    print('Product Found!')\n",
    "                    name = result['name']\n",
    "                    id = result['id']\n",
    "                    if str(id)[0] == '3':\n",
    "                        region = 'Supreme EU'\n",
    "                    else:\n",
    "                        region = 'Supreme US'\n",
    "                    cat = result['category_name']\n",
    "                    price = '${}'.format(result['price']*.01)\n",
    "                    link = 'https://www.supremenewyork.com/shop/{}'.format(id)\n",
    "                    mylist.append(id)\n",
    "                    print(len(mylist), end=\"\"),\n",
    "                    print('.)', end = \"\"),\n",
    "                    print(name,'-',cat, '-', price)\n",
    "                    webbrowser.open(link)\n",
    "                    print('Product Found at {} and Opened in {:.2f} Seconds'.format(time.strftime(\"%I:%M:%S\"),time.time()-starttime))\n",
    "                    logging.info('{}: {} Found Using \"{}\" at {} and Opened in {:.2f} Seconds'.format(region, name, keyword, time.strftime(\"%I:%M:%S\"),time.time()-starttime))\n",
    "                    print()"
   ]
  },
  {
   "cell_type": "code",
   "execution_count": 3,
   "metadata": {},
   "outputs": [
    {
     "name": "stdout",
     "output_type": "stream",
     "text": [
      "Enter Keyword(s), Hit Enter When Ready:jacket\n",
      "\n",
      "Product Found!\n",
      "1.)Iggy Pop Puffy Jacket - Jackets - $198.0\n",
      "Product Found at 12:38:47 and Opened in 0.26 Seconds\n",
      "\n",
      "Product Found!\n",
      "2.)Supreme®/Schott® Leather Work Jacket - Jackets - $628.0\n",
      "Product Found at 12:38:47 and Opened in 0.28 Seconds\n",
      "\n",
      "Product Found!\n",
      "3.)Fuck Down Jacket - Jackets - $338.0\n",
      "Product Found at 12:38:47 and Opened in 0.31 Seconds\n",
      "\n",
      "Product Found!\n",
      "4.)Firecracker Down Jacket - Jackets - $338.0\n",
      "Product Found at 12:38:47 and Opened in 0.34 Seconds\n",
      "\n",
      "Program Ended\n",
      "------------------------------------------------------------------------------------------------------------\n"
     ]
    }
   ],
   "source": [
    "keyword = input('Enter Keyword(s), Hit Enter When Ready:').lower()\n",
    "keylist = keyword.split(\",\")\n",
    "print()\n",
    "\n",
    "for keyword in keylist:\n",
    "    keysearch(keyword)\n",
    "\n",
    "for _ in range(600):\n",
    "    try:\n",
    "        if not mylists:\n",
    "            print('{}: Product Not Found for {}, Will Look Again...'.format(time.strftime(\"%I:%M:%S\"),keyword).title())\n",
    "            time.sleep(0.05)\n",
    "            keysearch(keyword)\n",
    "    except Exception as e:\n",
    "        print('{}: or Webstore Closed'.format(e))\n",
    "print('Program Ended')\n",
    "print('------------------------------------------------------------------------------------------------------------')"
   ]
  },
  {
   "cell_type": "code",
   "execution_count": null,
   "metadata": {},
   "outputs": [],
   "source": []
  }
 ],
 "metadata": {
  "kernelspec": {
   "display_name": "Python 3",
   "language": "python",
   "name": "python3"
  },
  "language_info": {
   "codemirror_mode": {
    "name": "ipython",
    "version": 3
   },
   "file_extension": ".py",
   "mimetype": "text/x-python",
   "name": "python",
   "nbconvert_exporter": "python",
   "pygments_lexer": "ipython3",
   "version": "3.7.6"
  }
 },
 "nbformat": 4,
 "nbformat_minor": 4
}
